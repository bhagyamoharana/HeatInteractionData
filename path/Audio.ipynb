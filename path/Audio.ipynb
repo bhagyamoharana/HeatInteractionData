{
 "cells": [
  {
   "cell_type": "code",
   "execution_count": 1,
   "id": "a64380f2-c932-4ada-8183-673983259838",
   "metadata": {},
   "outputs": [
    {
     "name": "stderr",
     "output_type": "stream",
     "text": [
      "100%|███████████████████████████████████████| 139M/139M [00:05<00:00, 27.8MiB/s]\n"
     ]
    },
    {
     "name": "stdout",
     "output_type": "stream",
     "text": [
      "Unexpected exception formatting exception. Falling back to standard exception\n"
     ]
    },
    {
     "name": "stderr",
     "output_type": "stream",
     "text": [
      "Traceback (most recent call last):\n",
      "  File \"C:\\Program Files (x86)\\Anaconda\\envs\\whisper_env\\lib\\site-packages\\IPython\\core\\interactiveshell.py\", line 3550, in run_code\n",
      "  File \"C:\\Users\\bmoha\\AppData\\Local\\Temp\\ipykernel_33088\\395434858.py\", line 3, in <module>\n",
      "    result = model.transcribe(\"your_file.mp3\")\n",
      "  File \"C:\\Program Files (x86)\\Anaconda\\envs\\whisper_env\\lib\\site-packages\\whisper\\transcribe.py\", line 139, in transcribe\n",
      "    mel = log_mel_spectrogram(audio, model.dims.n_mels, padding=N_SAMPLES)\n",
      "  File \"C:\\Program Files (x86)\\Anaconda\\envs\\whisper_env\\lib\\site-packages\\whisper\\audio.py\", line 140, in log_mel_spectrogram\n",
      "    audio = load_audio(audio)\n",
      "  File \"C:\\Program Files (x86)\\Anaconda\\envs\\whisper_env\\lib\\site-packages\\whisper\\audio.py\", line 58, in load_audio\n",
      "    out = run(cmd, capture_output=True, check=True).stdout\n",
      "  File \"C:\\Program Files (x86)\\Anaconda\\envs\\whisper_env\\lib\\subprocess.py\", line 505, in run\n",
      "    with Popen(*popenargs, **kwargs) as process:\n",
      "  File \"C:\\Program Files (x86)\\Anaconda\\envs\\whisper_env\\lib\\subprocess.py\", line 951, in __init__\n",
      "    self._execute_child(args, executable, preexec_fn, close_fds,\n",
      "  File \"C:\\Program Files (x86)\\Anaconda\\envs\\whisper_env\\lib\\subprocess.py\", line 1436, in _execute_child\n",
      "    hp, ht, pid, tid = _winapi.CreateProcess(executable, args,\n",
      "FileNotFoundError: [WinError 2] The system cannot find the file specified\n",
      "\n",
      "During handling of the above exception, another exception occurred:\n",
      "\n",
      "Traceback (most recent call last):\n",
      "  File \"C:\\Program Files (x86)\\Anaconda\\envs\\whisper_env\\lib\\site-packages\\pygments\\styles\\__init__.py\", line 45, in get_style_by_name\n",
      "ModuleNotFoundError: No module named 'pygments.styles.default'\n",
      "\n",
      "During handling of the above exception, another exception occurred:\n",
      "\n",
      "Traceback (most recent call last):\n",
      "  File \"C:\\Program Files (x86)\\Anaconda\\envs\\whisper_env\\lib\\site-packages\\IPython\\core\\interactiveshell.py\", line 2144, in showtraceback\n",
      "  File \"C:\\Program Files (x86)\\Anaconda\\envs\\whisper_env\\lib\\site-packages\\IPython\\core\\ultratb.py\", line 1435, in structured_traceback\n",
      "  File \"C:\\Program Files (x86)\\Anaconda\\envs\\whisper_env\\lib\\site-packages\\IPython\\core\\ultratb.py\", line 1326, in structured_traceback\n",
      "  File \"C:\\Program Files (x86)\\Anaconda\\envs\\whisper_env\\lib\\site-packages\\IPython\\core\\ultratb.py\", line 1173, in structured_traceback\n",
      "  File \"C:\\Program Files (x86)\\Anaconda\\envs\\whisper_env\\lib\\site-packages\\IPython\\core\\ultratb.py\", line 1063, in format_exception_as_a_whole\n",
      "  File \"C:\\Program Files (x86)\\Anaconda\\envs\\whisper_env\\lib\\site-packages\\IPython\\core\\ultratb.py\", line 1114, in get_records\n",
      "  File \"C:\\Program Files (x86)\\Anaconda\\envs\\whisper_env\\lib\\site-packages\\pygments\\styles\\__init__.py\", line 47, in get_style_by_name\n",
      "pygments.util.ClassNotFound: Could not find style module 'pygments.styles.default', though it should be builtin.\n"
     ]
    }
   ],
   "source": [
    "import whisper\n",
    "model = whisper.load_model(\"base\")\n",
    "result = model.transcribe(\"your_file.mp3\")\n",
    "print(result[\"text\"])\n"
   ]
  },
  {
   "cell_type": "code",
   "execution_count": 2,
   "id": "27b3df6c-2a40-4892-9764-3f97713d1b9d",
   "metadata": {},
   "outputs": [
    {
     "name": "stdout",
     "output_type": "stream",
     "text": [
      "Unexpected exception formatting exception. Falling back to standard exception\n"
     ]
    },
    {
     "name": "stderr",
     "output_type": "stream",
     "text": [
      "Traceback (most recent call last):\n",
      "  File \"C:\\Program Files (x86)\\Anaconda\\envs\\whisper_env\\lib\\site-packages\\IPython\\core\\interactiveshell.py\", line 3550, in run_code\n",
      "  File \"C:\\Users\\bmoha\\AppData\\Local\\Temp\\ipykernel_33088\\395434858.py\", line 3, in <module>\n",
      "    result = model.transcribe(\"your_file.mp3\")\n",
      "  File \"C:\\Program Files (x86)\\Anaconda\\envs\\whisper_env\\lib\\site-packages\\whisper\\transcribe.py\", line 139, in transcribe\n",
      "    mel = log_mel_spectrogram(audio, model.dims.n_mels, padding=N_SAMPLES)\n",
      "  File \"C:\\Program Files (x86)\\Anaconda\\envs\\whisper_env\\lib\\site-packages\\whisper\\audio.py\", line 140, in log_mel_spectrogram\n",
      "    audio = load_audio(audio)\n",
      "  File \"C:\\Program Files (x86)\\Anaconda\\envs\\whisper_env\\lib\\site-packages\\whisper\\audio.py\", line 58, in load_audio\n",
      "    out = run(cmd, capture_output=True, check=True).stdout\n",
      "  File \"C:\\Program Files (x86)\\Anaconda\\envs\\whisper_env\\lib\\subprocess.py\", line 505, in run\n",
      "    with Popen(*popenargs, **kwargs) as process:\n",
      "  File \"C:\\Program Files (x86)\\Anaconda\\envs\\whisper_env\\lib\\subprocess.py\", line 951, in __init__\n",
      "    self._execute_child(args, executable, preexec_fn, close_fds,\n",
      "  File \"C:\\Program Files (x86)\\Anaconda\\envs\\whisper_env\\lib\\subprocess.py\", line 1436, in _execute_child\n",
      "    hp, ht, pid, tid = _winapi.CreateProcess(executable, args,\n",
      "FileNotFoundError: [WinError 2] The system cannot find the file specified\n",
      "\n",
      "During handling of the above exception, another exception occurred:\n",
      "\n",
      "Traceback (most recent call last):\n",
      "  File \"C:\\Program Files (x86)\\Anaconda\\envs\\whisper_env\\lib\\site-packages\\pygments\\styles\\__init__.py\", line 45, in get_style_by_name\n",
      "ModuleNotFoundError: No module named 'pygments.styles.default'\n",
      "\n",
      "During handling of the above exception, another exception occurred:\n",
      "\n",
      "Traceback (most recent call last):\n",
      "  File \"C:\\Program Files (x86)\\Anaconda\\envs\\whisper_env\\lib\\site-packages\\IPython\\core\\interactiveshell.py\", line 2144, in showtraceback\n",
      "  File \"C:\\Program Files (x86)\\Anaconda\\envs\\whisper_env\\lib\\site-packages\\IPython\\core\\ultratb.py\", line 1435, in structured_traceback\n",
      "  File \"C:\\Program Files (x86)\\Anaconda\\envs\\whisper_env\\lib\\site-packages\\IPython\\core\\ultratb.py\", line 1326, in structured_traceback\n",
      "  File \"C:\\Program Files (x86)\\Anaconda\\envs\\whisper_env\\lib\\site-packages\\IPython\\core\\ultratb.py\", line 1173, in structured_traceback\n",
      "  File \"C:\\Program Files (x86)\\Anaconda\\envs\\whisper_env\\lib\\site-packages\\IPython\\core\\ultratb.py\", line 1063, in format_exception_as_a_whole\n",
      "  File \"C:\\Program Files (x86)\\Anaconda\\envs\\whisper_env\\lib\\site-packages\\IPython\\core\\ultratb.py\", line 1114, in get_records\n",
      "  File \"C:\\Program Files (x86)\\Anaconda\\envs\\whisper_env\\lib\\site-packages\\pygments\\styles\\__init__.py\", line 47, in get_style_by_name\n",
      "pygments.util.ClassNotFound: Could not find style module 'pygments.styles.default', though it should be builtin.\n"
     ]
    }
   ],
   "source": [
    "import whisper\n",
    "model = whisper.load_model(\"base\")\n",
    "result = model.transcribe(\"your_file.mp3\")\n",
    "print(result[\"text\"])\n"
   ]
  },
  {
   "cell_type": "code",
   "execution_count": null,
   "id": "cd49e494-595f-4da8-b734-7d3a5fd679e9",
   "metadata": {},
   "outputs": [],
   "source": []
  }
 ],
 "metadata": {
  "kernelspec": {
   "display_name": "Python (whisper_env)",
   "language": "python",
   "name": "whisper_env"
  },
  "language_info": {
   "codemirror_mode": {
    "name": "ipython",
    "version": 3
   },
   "file_extension": ".py",
   "mimetype": "text/x-python",
   "name": "python",
   "nbconvert_exporter": "python",
   "pygments_lexer": "ipython3",
   "version": "3.9.23"
  }
 },
 "nbformat": 4,
 "nbformat_minor": 5
}
